{
 "cells": [
  {
   "cell_type": "code",
   "execution_count": 1,
   "metadata": {
    "ExecuteTime": {
     "end_time": "2018-04-02T13:52:46.002000Z",
     "start_time": "2018-04-02T13:52:39.935000Z"
    },
    "collapsed": false,
    "deletable": true,
    "editable": true
   },
   "outputs": [],
   "source": [
    "import numpy as np\n",
    "import matplotlib\n",
    "import matplotlib.pyplot as plt\n",
    "import scikitplot as skplt"
   ]
  },
  {
   "cell_type": "code",
   "execution_count": 2,
   "metadata": {
    "ExecuteTime": {
     "end_time": "2018-04-02T13:52:46.362000Z",
     "start_time": "2018-04-02T13:52:46.112000Z"
    },
    "collapsed": true,
    "deletable": true,
    "editable": true
   },
   "outputs": [],
   "source": [
    "def sigmoid(x, deriv=False):\n",
    "    if deriv:\n",
    "        return x * (1 - x)  # This x is actually sigmoid(x), not the ind var x\n",
    "\n",
    "    return 1 / (1 + np.exp(-x))\n",
    "\n",
    "\n",
    "def relu(x, deriv=False):\n",
    "    if type(x) == list:\n",
    "        x = np.array(x)\n",
    "    if deriv:\n",
    "        # outlist = []\n",
    "        # xflat = x.flatten()\n",
    "        # for xp in xflat:\n",
    "        #     if xp > 0:\n",
    "        #         outlist.append(1)\n",
    "        #     else:\n",
    "        #         outlist.append(0)\n",
    "        # outlist = np.array(outlist)\n",
    "        # outlist = outlist.reshape(x.shape)\n",
    "        outlist = x > 0\n",
    "        outlist = outlist.astype(int)\n",
    "        return outlist\n",
    "    # outlist = []\n",
    "    # xflat = x.flatten()\n",
    "    # for xp in xflat:\n",
    "    #     if xp > 0:\n",
    "    #         outlist.append(xp)\n",
    "    #     else:\n",
    "    #         outlist.append(0)\n",
    "    # outlist = np.array(outlist)\n",
    "    # outlist = outlist.reshape(x.shape)\n",
    "    outlist = x.clip(min=0)\n",
    "    return outlist\n",
    "\n",
    "\n",
    "def relumod(x, deriv=False):\n",
    "    slope = 0.1\n",
    "    if type(x) == list:\n",
    "        x = np.array(x)\n",
    "    if deriv:\n",
    "        outlist = []\n",
    "        xflat = x.flatten()\n",
    "        for xp in xflat:\n",
    "            if xp > 0:\n",
    "                outlist.append(1)\n",
    "            else:\n",
    "                outlist.append(slope)\n",
    "        outlist = np.array(outlist)\n",
    "        outlist = outlist.reshape(x.shape)\n",
    "        return outlist\n",
    "    outlist = []\n",
    "    xflat = x.flatten()\n",
    "    for xp in xflat:\n",
    "        if xp > 0:\n",
    "            outlist.append(xp)\n",
    "        else:\n",
    "            outlist.append(xp * slope)\n",
    "    outlist = np.array(outlist)\n",
    "    outlist = outlist.reshape(x.shape)\n",
    "    return outlist\n",
    "\n",
    "\n",
    "def add_bias(x):\n",
    "    X_new = np.ones((x.shape[0], x.shape[1] + 1))\n",
    "    X_new[:, 1:] = x\n",
    "    return X_new\n",
    "\n",
    "\n",
    "def quad_cost_p(yl, lastlyr):\n",
    "    return yl - lastlyr\n",
    "\n",
    "\n",
    "def cross_ent_cost_p(yl, lastlyr): #Penalty for wrong label\n",
    "    lastlyr -= 0.00000001\n",
    "    cost = (yl - lastlyr) / ((1 - lastlyr) * lastlyr)  # Is the sign correct? \n",
    "    return cost\n",
    "\n",
    "\n"
   ]
  },
  {
   "cell_type": "code",
   "execution_count": 3,
   "metadata": {
    "ExecuteTime": {
     "end_time": "2018-04-02T13:52:46.534000Z",
     "start_time": "2018-04-02T13:52:46.424000Z"
    },
    "collapsed": true,
    "deletable": true,
    "editable": true
   },
   "outputs": [],
   "source": [
    "#For particle data\n",
    "def StringMatToFloat(inlist):\n",
    "    if type(inlist[0])==list:\n",
    "        outlist=[]\n",
    "        for i in range(len(inlist)):\n",
    "            outlist.append([])\n",
    "            for j in inlist[i]:\n",
    "                outlist[i].append(float(j))\n",
    "    else:\n",
    "        outlist=[]\n",
    "        for i in inlist:\n",
    "            outlist.append(float(i))\n",
    "    return outlist\n",
    "\n",
    "def ImportData(filepath,NTraining,NValidation,seperator,Header=True):\n",
    "    file=open(filepath)\n",
    "    data=[]\n",
    "    valdata=[]\n",
    "    count=0\n",
    "    if Header:\n",
    "        for line in file:\n",
    "            count+=1\n",
    "            if count==1:\n",
    "                Namelist=line.split(seperator)\n",
    "            elif count<=NTraining:\n",
    "                data.append(StringMatToFloat(line.split(seperator)))\n",
    "            elif count>NTraining:\n",
    "                valdata.append(StringMatToFloat(line.split(seperator)))\n",
    "            if count>=NTraining+NValidation:\n",
    "                break    \n",
    "        return data,valdata,Namelist\n",
    "    else:\n",
    "        for line in file:\n",
    "            count+=1\n",
    "            if count<=NTraining:\n",
    "                data.append(StringMatToFloat(line.split(seperator)))\n",
    "            elif count>NTraining:\n",
    "                valdata.append(StringMatToFloat(line.split(seperator)))\n",
    "            if count>NTraining+NValidation+1:\n",
    "                break\n",
    "        return data,valdata"
   ]
  },
  {
   "cell_type": "code",
   "execution_count": 10,
   "metadata": {
    "ExecuteTime": {
     "end_time": "2018-04-02T13:58:10.595000Z",
     "start_time": "2018-04-02T13:58:09.829000Z"
    },
    "collapsed": false,
    "deletable": true,
    "editable": true
   },
   "outputs": [],
   "source": [
    "###################################### Import data ##############################################\n",
    "\n",
    "useadvBDTdat = False\n",
    "usesimBDTdat = False\n",
    "useParticleDat = True\n",
    "\n",
    "if useadvBDTdat:\n",
    "    data = np.genfromtxt('\\Users\\Sofie\\Documents\\Uni\\AS2\\Uge 6\\BDT_16var.txt')\n",
    "    #data = np.genfromtxt('/Users/idastoustrup/Documents/Dropbox/Skole/Fysiske Fag/4. year/AnvStat2/Exercises/Week 6/'\n",
    "    #                     'BDTs/BDT_16var.txt')\n",
    "    data = data.T\n",
    "    data = data[1:len(data)]\n",
    "    data = data.T\n",
    "    endtrain = int(len(data)/2)\n",
    "    datatest = data[endtrain:len(data)]\n",
    "    datatrain = data[0:endtrain]\n",
    "    Ndhalf = len(datatrain)/2\n",
    "    y = [0, 1]*int(Ndhalf)\n",
    "    y = np.array(y)\n",
    "    y = y.reshape(len(datatrain), 1)\n",
    "    X = np.array(datatrain)\n",
    "\n",
    "    testX = np.array(datatest)\n",
    "\n",
    "    for i in range(len(testX[0])):\n",
    "        minx = min(testX.T[i])\n",
    "        maxx = max(testX.T[i])\n",
    "        rangex = abs(minx) + maxx\n",
    "        testX.T[i] = testX.T[i] / rangex\n",
    "\n",
    "    Ndhalft = len(datatest) / 2\n",
    "    testy = [0, 1] * int(Ndhalft)\n",
    "    testy = np.array(testy)\n",
    "    testy = testy.reshape(len(datatest), 1)\n",
    "\n",
    "elif usesimBDTdat:\n",
    "    datateb = np.genfromtxt('\\Users\\Sofie\\Documents\\Uni\\AS2\\Uge 6\\BDT_background_test.txt')\n",
    "    datatrb = np.genfromtxt('\\Users\\Sofie\\Documents\\Uni\\AS2\\Uge 6\\BDT_background_train.txt')\n",
    "    datates = np.genfromtxt('\\Users\\Sofie\\Documents\\Uni\\AS2\\Uge 6\\BDT_signal_test.txt')\n",
    "    datatrs = np.genfromtxt('\\Users\\Sofie\\Documents\\Uni\\AS2\\Uge 6\\BDT_signal_train.txt')\n",
    "\n",
    "    #datateb = np.genfromtxt('/Users/idastoustrup/Documents/Dropbox/Skole/Fysiske Fag/4. year/AnvStat2/Exercises/Week 6/'\n",
    "    #                        'BDTs/BDT_background_test.txt')\n",
    "    #datatrb = np.genfromtxt('/Users/idastoustrup/Documents/Dropbox/Skole/Fysiske Fag/4. year/AnvStat2/Exercises/Week 6/'\n",
    "    #                        'BDTs/BDT_background_train.txt')\n",
    "    #datates = np.genfromtxt('/Users/idastoustrup/Documents/Dropbox/Skole/Fysiske Fag/4. year/AnvStat2/Exercises/Week 6/'\n",
    "    #                        'BDTs/BDT_signal_test.txt')\n",
    "    #datatrs = np.genfromtxt('/Users/idastoustrup/Documents/Dropbox/Skole/Fysiske Fag/4. year/AnvStat2/Exercises/Week 6/'\n",
    "    #                        'BDTs/BDT_signal_train.txt')\n",
    "\n",
    "    X = np.concatenate((datatrb, datatrs), axis=0)\n",
    "    y = np.append(np.zeros(len(datatrb)), np.ones(len(datatrs)))\n",
    "    y = y.reshape(len(X), 1)\n",
    "\n",
    "    testX = np.concatenate((datateb, datates), axis=0)\n",
    "\n",
    "    for i in range(len(testX[0])):\n",
    "        minx = min(testX.T[i])\n",
    "        maxx = max(testX.T[i])\n",
    "        rangex = abs(minx) + maxx\n",
    "        testX.T[i] = testX.T[i] / rangex\n",
    "\n",
    "    testy = np.append(np.zeros(len(datateb)), np.ones(len(datates)))\n",
    "    testy = testy.reshape(len(testX), 1)\n",
    "elif useParticleDat:\n",
    "    data, valdata =ImportData(\"\\Users\\Sofie\\Documents\\Uni\\AS2\\Project 2 - ANN\\MC05_Shuffled_NoHeader.csv\",1e3,1e2,\",\",Header=False) \n",
    "    #header = [\"p_Rhad1\",\"p_Rhad\",\"p_f3\",\"p_weta2\",\"p_Rphi\",\"p_Reta\",\"p_Eratio\",\"p_f1\",\"p_eta\",\"p_ptPU30\",\"averageInteractionsPerCrossing\",\"p_etcone20\",\"p_etcone30\",\"p_etcone40\",\"p_etcone20ptCorrection\",\"p_etcone30ptCorrection\",\"p_etcone40ptCorrection\",\"p_ptcone20\",\"p_ptcone30\",\"p_ptcone40\",\"p_numberOfInnermostPixelHits\",\"p_numberOfPixelHits\",\"p_numberOfSCTHits\",\"p_d0\",\"p_d0Sig\",\"p_dPOverP\",\"p_deltaEta1\",\"p_deltaPhiRescaled2\",\"p_EptRatio\",\"p_TRTPID\",\"p_numberOfTRTHits\",\"p_TRTTrackOccupancy\",\"p_numberOfTRTXenonHits\",\"Z_m\",\"p_LHValue\",\"p_et_calo\",\"mva_Calo_kBDT_conf1_mc\",\"mva_Iso_kBDT_conf1_mc\",\"mva_Track_kBDT_conf1_mc\",\"mva_kBDT_conf1_mc_final\",\"label0\",\"label1\",\"p_TruthType\",\"Truth\"]   \n",
    "    data = np.array(data) \n",
    "    valdata = np.array(valdata) #Not used yet\n",
    "    \n",
    "    X = data[:,range(0,7+1) + range(20,29+1)] #0-7 er calorimeter, 20-29 er tracking\n",
    "    y = []\n",
    "    for i,x in enumerate(data):\n",
    "        if data[i,[40]] == 1 and data[i,[42]] == 2: #label0 and p_TruthType\n",
    "            y.extend([1])\n",
    "        else:\n",
    "            y.extend([0])\n",
    "            \n",
    "    testX = valdata[0,range(0,7+1) + range(20,29+1)] #0-7 er calorimeter, 20-29 er tracking         \n",
    "    testy = []\n",
    "    for i,x in enumerate(data):\n",
    "        if data[i,[40]] == 1 and data[i,[42]] == 2: #label0 and p_TruthType\n",
    "            testy.extend([1])\n",
    "        else:\n",
    "            testy.extend([0])\n",
    "else:\n",
    "\n",
    "    X = np.array([[0, 0, 0, 1],\n",
    "                 [0, 1, 0, 0],\n",
    "                 [1, 0, 0, 0],\n",
    "                 [0, 1, 1, 0],\n",
    "                 [1, 1, 1, 0],\n",
    "                 [0, 0, 1, 1]])\n",
    "\n",
    "    y = np.array([[1],\n",
    "                  [1],\n",
    "                  [1],\n",
    "                  [0],\n",
    "                  [0],\n",
    "                  [0]])\n",
    "\n",
    "    testX = np.array([[1, 0, 1, 0],\n",
    "                      [1, 0, 1, 1],\n",
    "                      [0, 0, 1, 0],\n",
    "                      [1, 0, 0, 1]])\n",
    "\n",
    "    testy = np.array([[0],\n",
    "                      [0],\n",
    "                      [1],\n",
    "                      [0]])\n",
    "\n",
    "# Data normalisation\n",
    "\n",
    "for i in range(len(X[0])):\n",
    "    minx = min(X.T[i])\n",
    "    maxx = max(X.T[i])\n",
    "    rangex = abs(minx) + maxx\n",
    "    X.T[i] = X.T[i]/rangex"
   ]
  },
  {
   "cell_type": "code",
   "execution_count": 11,
   "metadata": {
    "ExecuteTime": {
     "end_time": "2018-04-02T13:58:16.159000Z",
     "start_time": "2018-04-02T13:58:16.065000Z"
    },
    "collapsed": false,
    "deletable": true,
    "editable": true
   },
   "outputs": [
    {
     "name": "stdout",
     "output_type": "stream",
     "text": [
      "\n",
      "Current Settings: LR = 0.000100, NLayers = 4\n"
     ]
    }
   ],
   "source": [
    "\n",
    "####################################### Network settings ###############################################\n",
    "\n",
    "np.random.seed(1)\n",
    "\n",
    "act_fcn = sigmoid\n",
    "cost_fcn_p = cross_ent_cost_p\n",
    "LR = 10**(-4) #?\n",
    "Nit = 5000#0\n",
    "Nprint = 100\n",
    "layersize = [len(X[0]), len(X[0])*5, len(X[0])*5, 1] #For 4 lag?\n",
    "bias = False\n",
    "\n",
    "print(\"\\n\" + \"Current Settings: LR = %f, NLayers = %i\"%(LR, len(layersize)))\n",
    "\n",
    "\n",
    "# Set #1 of settings for BDTsimdat\n",
    "\n",
    "# act_fcn = sigmoid\n",
    "# cost_fcn_p = quad_cost_p\n",
    "# LR = 0.01\n",
    "# Nit = 15000\n",
    "# Nprint = 1000\n",
    "# layersize = [len(X[0]), len(X[0])*4, len(X[0])*3, 1]\n",
    "# bias = False\n",
    "\n",
    "\n",
    "# Set #2 of settings for BDTsimdat\n",
    "\n",
    "# act_fcn = sigmoid\n",
    "# cost_fcn_p = cross_ent_cost_p\n",
    "# LR = 10**(-4)\n",
    "# Nit = 15000\n",
    "# Nprint = 1000\n",
    "# layersize = [len(X[0]), len(X[0])*4, len(X[0])*3, 1]\n",
    "# bias = False"
   ]
  },
  {
   "cell_type": "code",
   "execution_count": 12,
   "metadata": {
    "ExecuteTime": {
     "end_time": "2018-04-02T13:58:24.618000Z",
     "start_time": "2018-04-02T13:58:24.540000Z"
    },
    "collapsed": false,
    "deletable": true,
    "editable": true
   },
   "outputs": [],
   "source": [
    "###################################### Train the network #########################################################\n",
    "\n",
    "# Add bias to X\n",
    "\n",
    "if bias:\n",
    "    X = add_bias(X)\n",
    "\n",
    "# Randomly initialize weights with range -1 to 1\n",
    "\n",
    "if bias:\n",
    "\n",
    "    weights = [0] * len(layersize)\n",
    "    for i in range(0, len(layersize)-1):\n",
    "        weights[i] = 2 * np.random.random((layersize[i] + 1, layersize[i + 1])) - 1\n",
    "else:\n",
    "    weights = [0] * len(layersize)\n",
    "    for i in range(0, len(layersize) - 1):\n",
    "        weights[i] = 2 * np.random.random((layersize[i], layersize[i + 1])) - 1 #random weights\n",
    "\n",
    "NLayers = len(layersize)\n",
    "\n",
    "layers = [0] * NLayers\n",
    "lerrors = [0] * NLayers\n",
    "ldeltas = [0] * NLayers"
   ]
  },
  {
   "cell_type": "code",
   "execution_count": 13,
   "metadata": {
    "ExecuteTime": {
     "end_time": "2018-04-02T13:58:26.634000Z",
     "start_time": "2018-04-02T13:58:26.337000Z"
    },
    "collapsed": false,
    "deletable": true,
    "editable": true
   },
   "outputs": [
    {
     "ename": "ValueError",
     "evalue": "shapes (1000,1000) and (1,90) not aligned: 1000 (dim 1) != 1 (dim 0)",
     "output_type": "error",
     "traceback": [
      "\u001b[0;31m---------------------------------------------------------------------------\u001b[0m",
      "\u001b[0;31mValueError\u001b[0m                                Traceback (most recent call last)",
      "\u001b[0;32m<ipython-input-13-43f190d48d93>\u001b[0m in \u001b[0;36m<module>\u001b[0;34m()\u001b[0m\n\u001b[1;32m     23\u001b[0m \u001b[1;33m\u001b[0m\u001b[0m\n\u001b[1;32m     24\u001b[0m         \u001b[1;32melse\u001b[0m\u001b[1;33m:\u001b[0m\u001b[1;33m\u001b[0m\u001b[0m\n\u001b[0;32m---> 25\u001b[0;31m             \u001b[0mlerrors\u001b[0m\u001b[1;33m[\u001b[0m\u001b[0mi\u001b[0m \u001b[1;33m-\u001b[0m \u001b[1;36m1\u001b[0m\u001b[1;33m]\u001b[0m \u001b[1;33m=\u001b[0m \u001b[0mldeltas\u001b[0m\u001b[1;33m[\u001b[0m\u001b[0mi\u001b[0m\u001b[1;33m]\u001b[0m\u001b[1;33m.\u001b[0m\u001b[0mdot\u001b[0m\u001b[1;33m(\u001b[0m\u001b[0mweights\u001b[0m\u001b[1;33m[\u001b[0m\u001b[0mi\u001b[0m \u001b[1;33m-\u001b[0m \u001b[1;36m1\u001b[0m\u001b[1;33m]\u001b[0m\u001b[1;33m.\u001b[0m\u001b[0mT\u001b[0m\u001b[1;33m)\u001b[0m \u001b[1;31m#Contribution from l1 to l2 error. Error of prevoius layer  from change in current and weights in previous.\u001b[0m\u001b[1;33m\u001b[0m\u001b[0m\n\u001b[0m\u001b[1;32m     26\u001b[0m             \u001b[0mweights\u001b[0m\u001b[1;33m[\u001b[0m\u001b[0mi\u001b[0m \u001b[1;33m-\u001b[0m \u001b[1;36m1\u001b[0m\u001b[1;33m]\u001b[0m \u001b[1;33m+=\u001b[0m \u001b[0mlayers\u001b[0m\u001b[1;33m[\u001b[0m\u001b[0mi\u001b[0m \u001b[1;33m-\u001b[0m \u001b[1;36m1\u001b[0m\u001b[1;33m]\u001b[0m\u001b[1;33m.\u001b[0m\u001b[0mT\u001b[0m\u001b[1;33m.\u001b[0m\u001b[0mdot\u001b[0m\u001b[1;33m(\u001b[0m\u001b[0mldeltas\u001b[0m\u001b[1;33m[\u001b[0m\u001b[0mi\u001b[0m\u001b[1;33m]\u001b[0m\u001b[1;33m)\u001b[0m \u001b[1;33m*\u001b[0m \u001b[0mLR\u001b[0m \u001b[1;31m#Change previous weights by previous values and change in current layer\u001b[0m\u001b[1;33m\u001b[0m\u001b[0m\n\u001b[1;32m     27\u001b[0m \u001b[1;33m\u001b[0m\u001b[0m\n",
      "\u001b[0;31mValueError\u001b[0m: shapes (1000,1000) and (1,90) not aligned: 1000 (dim 1) != 1 (dim 0)"
     ]
    }
   ],
   "source": [
    "for j in range(Nit + 1):\n",
    "\n",
    "    ############ FEED FORWARD ###########\n",
    "     # fra X forudsig Y. \n",
    "    layers[0] = X\n",
    "    for i in range(1, NLayers):\n",
    "        layers[i] = act_fcn(np.dot(layers[i-1], weights[i-1])) #Lag * vægt gennem acti -> Y\n",
    "\n",
    "        if bias and not i == NLayers - 1:\n",
    "            layers[i] = add_bias(layers[i])\n",
    "\n",
    "    ########### FEED BACKWARDS #########\n",
    "\n",
    "    lerrors[-1] = cost_fcn_p(y, layers[-1]) #Penalty for wrong prediction. Not simply the difference\n",
    "    for i in range(NLayers - 1, 0, -1):\n",
    "\n",
    "        ldeltas[i] = lerrors[i] * act_fcn(layers[i], deriv=True) #How large penalty, and how sure it is -> how much to change the weights\n",
    "\n",
    "        if bias and i < NLayers - 1:\n",
    "            ldeltasn = ldeltas[i][:, 1:]\n",
    "            lerrors[i - 1] = ldeltasn.dot(weights[i - 1].T)\n",
    "            weights[i - 1] += layers[i - 1].T.dot(ldeltasn) * LR\n",
    "\n",
    "        else:\n",
    "            lerrors[i - 1] = ldeltas[i].dot(weights[i - 1].T) #Contribution from l1 to l2 error. Error of prevoius layer  from change in current and weights in previous. \n",
    "            weights[i - 1] += layers[i - 1].T.dot(ldeltas[i]) * LR #Change previous weights by previous values and change in current layer\n",
    "\n",
    "    if j % Nprint == 0:\n",
    "        print(\"\\nj is %i out of %i\"%(j, Nit))\n",
    "        print(\"The error has been decreased to %f, given the chosen cost fcn. \"\n",
    "              \"The linear error is %f.\"%(np.mean(np.abs(lerrors[-1])), np.mean(np.abs(quad_cost_p(y, layers[-1])))))"
   ]
  },
  {
   "cell_type": "code",
   "execution_count": null,
   "metadata": {
    "ExecuteTime": {
     "end_time": "2018-04-02T13:53:25.784000Z",
     "start_time": "2018-04-02T11:53:04.270Z"
    },
    "collapsed": false,
    "deletable": true,
    "editable": true
   },
   "outputs": [],
   "source": [
    "###################################### Test the network #########################################################\n",
    "\n",
    "for i in range(5):\n",
    "    print(\"\\n\" + \"%i, training set\"%i)\n",
    "    print(\"Class should have been %i, the ANN guesses %f\"%(y[i], layers[-1][i]))\n",
    "\n",
    "testlayers = [0] * NLayers\n",
    "testlayers[0] = testX\n",
    "\n",
    "for i in range(1, NLayers):\n",
    "    testlayers[i] = act_fcn(np.dot(testlayers[i-1], weights[i-1]))\n",
    "\n",
    "print(\"\\n\" + \"The linear error for the test set is: \" + str(np.mean(np.abs(testy - testlayers[-1]))))"
   ]
  },
  {
   "cell_type": "code",
   "execution_count": 82,
   "metadata": {
    "ExecuteTime": {
     "end_time": "2018-04-02T11:44:52.121000Z",
     "start_time": "2018-04-02T11:44:49.883000Z"
    },
    "collapsed": false,
    "deletable": true,
    "editable": true
   },
   "outputs": [
    {
     "name": "stdout",
     "output_type": "stream",
     "text": [
      "0  of  8000\n",
      "500  of  8000\n",
      "1000  of  8000\n",
      "1500  of  8000\n",
      "2000  of  8000\n",
      "2500  of  8000\n",
      "3000  of  8000\n",
      "3500  of  8000\n",
      "4000  of  8000\n",
      "4500  of  8000\n",
      "5000  of  8000\n",
      "5500  of  8000\n",
      "6000  of  8000\n",
      "6500  of  8000\n",
      "7000  of  8000\n",
      "7500  of  8000\n"
     ]
    },
    {
     "data": {
      "image/png": "[encoded data removed]",
      "text/plain": [
       "<matplotlib.figure.Figure at 0x582a3190>"
      ]
     },
     "metadata": {},
     "output_type": "display_data"
    }
   ],
   "source": [
    "###################################### Histograms #########################################################\n",
    "\n",
    "plt.figure()  \n",
    "\n",
    "#y_pred_s = [x for i,x in enumerate(layers[-1]) if y[i]==1] #predicted y for real signal\n",
    "#y_pred_b = [x for i,x in enumerate(layers[-1]) if y[i]==0] #predicted y for real background\n",
    "\n",
    "y_pred_s = [] #predicted y for real signal\n",
    "y_pred_b = [] #predicted y for real background\n",
    "\n",
    "\n",
    "for i,x in enumerate(layers[-1]):\n",
    "    if y[i]==1:\n",
    "        y_pred_s=np.append(y_pred_s,x)\n",
    "    else:\n",
    "        y_pred_b=np.append(y_pred_b,x)\n",
    "    if i % 500 == 0:\n",
    "        print (i, \" of \", len(layers[-1]))\n",
    "\n",
    "binwidth = 0.05\n",
    "plt.hist(y_pred_s, 20, range=[0,1] ,normed=0, facecolor='red',alpha=0.5) #counts, bins, patches = #bins=range(min(y_pred_s), max(y_pred_s) + binwidth, binwidth)\n",
    "plt.hist(y_pred_b, 20,range=[0,1] ,normed=0, facecolor='blue',alpha=0.5)\n",
    "plt.xlabel(' Output layer')\n",
    "plt.ylabel(' Frequency')\n",
    "\n",
    "plt.legend([\"Signal\",\"Background\"],loc = 'upper center')\n",
    "plt.title(\"Title\",fontsize=16)\n",
    "\n",
    "#plt.xlim(0,1)\n",
    "#plt.ylim(0,4)\n",
    "plt.show()"
   ]
  },
  {
   "cell_type": "code",
   "execution_count": 21,
   "metadata": {
    "ExecuteTime": {
     "end_time": "2018-04-01T15:31:57.210000Z",
     "start_time": "2018-04-01T15:31:56.030000Z"
    },
    "collapsed": false,
    "deletable": false,
    "editable": false,
    "run_control": {
     "frozen": true
    }
   },
   "outputs": [
    {
     "data": {
      "image/png": "[encoded data removed]",
      "text/plain": [
       "<matplotlib.figure.Figure at 0xb172af0>"
      ]
     },
     "metadata": {},
     "output_type": "display_data"
    }
   ],
   "source": [
    "plt.figure()  # X\n",
    "binwidth = 0.04 \n",
    "counts, bins, patches = plt.hist(layers[-1], 6 ,normed=0, facecolor='red',alpha=0.5)\n",
    "plt.hist(y, 6 ,normed=0, facecolor='blue',alpha=0.5)\n",
    "plt.xlabel(' Output layer')\n",
    "plt.ylabel(' Frequency')\n",
    "\n",
    "plt.legend([\"ANN\",\"True labels\"])\n",
    "plt.title(\"Title\",fontsize=16)\n",
    "\n",
    "plt.xlim(0,1)\n",
    "plt.ylim(0,4)\n",
    "plt.show()"
   ]
  },
  {
   "cell_type": "code",
   "execution_count": 85,
   "metadata": {
    "ExecuteTime": {
     "end_time": "2018-04-02T11:50:31.884000Z",
     "start_time": "2018-04-02T11:50:30.594000Z"
    },
    "collapsed": false,
    "deletable": true,
    "editable": true
   },
   "outputs": [
    {
     "data": {
      "image/png": "[encoded data removed]",
      "text/plain": [
       "<matplotlib.figure.Figure at 0x590cfa30>"
      ]
     },
     "metadata": {},
     "output_type": "display_data"
    }
   ],
   "source": [
    "###################################### ROC Curve #########################################################\n",
    "\n",
    "\n",
    "# True vs. false positive rate\n",
    "fpr, tpr, threshold = skplt.metrics.roc_curve(y,layers[-1])\n",
    "\n",
    "plt.title('Receiver Operating Characteristic',fontsize=16)\n",
    "#plt.plot(fpr, tpr, 'b', label = 'AUC = %0.2f' % roc_auc)\n",
    "plt.plot(fpr, tpr, 'b')\n",
    "plt.plot([0, 1], [0, 1],'r--')\n",
    "plt.legend([\"Our ANN\",\"Random guess\"],loc = 'lower right')\n",
    "plt.xlim([0, 1])\n",
    "plt.ylim([0, 1])\n",
    "plt.ylabel('True Positive Rate')\n",
    "plt.xlabel('False Positive Rate')\n",
    "plt.show()"
   ]
  },
  {
   "cell_type": "code",
   "execution_count": null,
   "metadata": {
    "collapsed": true,
    "deletable": true,
    "editable": true
   },
   "outputs": [],
   "source": []
  }
 ],
 "metadata": {
  "kernelspec": {
   "display_name": "Python 2",
   "language": "python",
   "name": "python2"
  },
  "language_info": {
   "codemirror_mode": {
    "name": "ipython",
    "version": 2
   },
   "file_extension": ".py",
   "mimetype": "text/x-python",
   "name": "python",
   "nbconvert_exporter": "python",
   "pygments_lexer": "ipython2",
   "version": "2.7.12"
  },
  "latex_envs": {
   "LaTeX_envs_menu_present": true,
   "autoclose": false,
   "autocomplete": true,
   "bibliofile": "biblio.bib",
   "cite_by": "apalike",
   "current_citInitial": 1,
   "eqLabelWithNumbers": true,
   "eqNumInitial": 1,
   "hotkeys": {
    "equation": "Ctrl-E",
    "itemize": "Ctrl-I"
   },
   "labels_anchors": false,
   "latex_user_defs": false,
   "report_style_numbering": false,
   "user_envs_cfg": false
  },
  "toc": {
   "nav_menu": {},
   "number_sections": true,
   "sideBar": true,
   "skip_h1_title": false,
   "title_cell": "Table of Contents",
   "title_sidebar": "Contents",
   "toc_cell": false,
   "toc_position": {},
   "toc_section_display": true,
   "toc_window_display": false
  },
  "varInspector": {
   "cols": {
    "lenName": 16,
    "lenType": 16,
    "lenVar": 40
   },
   "kernels_config": {
    "python": {
     "delete_cmd_postfix": "",
     "delete_cmd_prefix": "del ",
     "library": "var_list.py",
     "varRefreshCmd": "print(var_dic_list())"
    },
    "r": {
     "delete_cmd_postfix": ") ",
     "delete_cmd_prefix": "rm(",
     "library": "var_list.r",
     "varRefreshCmd": "cat(var_dic_list()) "
    }
   },
   "types_to_exclude": [
    "module",
    "function",
    "builtin_function_or_method",
    "instance",
    "_Feature"
   ],
   "window_display": false
  }
 },
 "nbformat": 4,
 "nbformat_minor": 2
}
